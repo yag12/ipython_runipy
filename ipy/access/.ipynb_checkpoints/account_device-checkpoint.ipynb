{
 "metadata": {
  "name": "",
  "signature": "sha256:7fee28134fd7afd589b0fe6a48b064bee2e6580c32f475658627b1dcf3b9fd1e"
 },
 "nbformat": 3,
 "nbformat_minor": 0,
 "worksheets": [
  {
   "cells": [
    {
     "cell_type": "code",
     "collapsed": false,
     "input": [
      "%pylab inline"
     ],
     "language": "python",
     "metadata": {},
     "outputs": [
      {
       "output_type": "stream",
       "stream": "stdout",
       "text": [
        "Populating the interactive namespace from numpy and matplotlib\n"
       ]
      }
     ],
     "prompt_number": 1
    },
    {
     "cell_type": "code",
     "collapsed": false,
     "input": [
      "import pandas as pd\n",
      "import numpy as np\n",
      "from pandas import Series, DataFrame, Panel, concat\n",
      "from os import environ, path\n",
      "import time\n",
      "import glob"
     ],
     "language": "python",
     "metadata": {},
     "outputs": [],
     "prompt_number": 2
    },
    {
     "cell_type": "code",
     "collapsed": false,
     "input": [
      "sdate = environ.get('sdate', '2014-10-20')\n",
      "edate = environ.get('edate', '2014-10-31')\n",
      "isdate = int(sdate.replace(\"-\", \"\") + \"0000\")\n",
      "iedate = int(edate.replace(\"-\", \"\") + \"2359\")"
     ],
     "language": "python",
     "metadata": {},
     "outputs": [],
     "prompt_number": 3
    },
    {
     "cell_type": "code",
     "collapsed": false,
     "input": [
      "def chg_time(log_time):\n",
      "    return time.ctime(log_time)"
     ],
     "language": "python",
     "metadata": {},
     "outputs": [],
     "prompt_number": 4
    },
    {
     "cell_type": "code",
     "collapsed": false,
     "input": [
      "t_cols = ['log_time', 'player_id', 'country', 'lv', 'os', 'device', 'yc', 'cheer_point', 'yp', 'sp', 'ep', 'type', 'is_daily_first_login']\n",
      "log_file = glob.glob('/var/www/yts/log/new/account/*_csv_log_account_login.csv')\n",
      "df = None\n",
      "\n",
      "for fname in log_file:\n",
      "    regdate = int(path.basename(fname).split(\"_\")[4])\n",
      "    if isdate <= regdate and iedate >= regdate:\n",
      "        csv = pd.read_csv(fname, names=t_cols)\n",
      "        if df is not None:\n",
      "            df = concat([df[0:], csv[0:]])\n",
      "        else:\n",
      "            df = csv"
     ],
     "language": "python",
     "metadata": {},
     "outputs": [],
     "prompt_number": 5
    },
    {
     "cell_type": "code",
     "collapsed": false,
     "input": [
      "grouped_device = df.groupby('device').size()\n",
      "grouped_device.sort()\n",
      "device_plot = grouped_device.plot(kind='barh')"
     ],
     "language": "python",
     "metadata": {},
     "outputs": [
      {
       "metadata": {},
       "output_type": "display_data",
       "png": "[encoded data removed]",
       "text": [
        "<matplotlib.figure.Figure at 0x7f5f80067b90>"
       ]
      }
     ],
     "prompt_number": 6
    },
    {
     "cell_type": "code",
     "collapsed": false,
     "input": [],
     "language": "python",
     "metadata": {},
     "outputs": [],
     "prompt_number": 6
    }
   ],
   "metadata": {}
  }
 ]
}