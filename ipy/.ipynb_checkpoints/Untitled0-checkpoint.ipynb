{
 "metadata": {
  "name": "",
  "signature": "sha256:7464307684680a167a0d380cdceb163170f4691bd5af88020934e15e14e301a4"
 },
 "nbformat": 3,
 "nbformat_minor": 0,
 "worksheets": []
}